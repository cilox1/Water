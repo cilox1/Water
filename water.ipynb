{
 "cells": [
  {
   "cell_type": "markdown",
   "metadata": {},
   "source": [
    "1. tentukan library"
   ]
  },
  {
   "cell_type": "code",
   "execution_count": 1,
   "metadata": {},
   "outputs": [],
   "source": [
    "import numpy as np\n",
    "import pandas as pd\n",
    "from sklearn.preprocessing import StandardScaler\n",
    "from sklearn.model_selection import train_test_split\n",
    "from sklearn import svm\n",
    "from sklearn.metrics import accuracy_score\n"
   ]
  },
  {
   "cell_type": "markdown",
   "metadata": {},
   "source": [
    "2. load dataset"
   ]
  },
  {
   "cell_type": "code",
   "execution_count": 2,
   "metadata": {},
   "outputs": [],
   "source": [
    "dataset = pd.read_csv('water.csv')"
   ]
  },
  {
   "cell_type": "code",
   "execution_count": 3,
   "metadata": {
    "scrolled": true
   },
   "outputs": [
    {
     "data": {
      "text/html": [
       "<div>\n",
       "<style scoped>\n",
       "    .dataframe tbody tr th:only-of-type {\n",
       "        vertical-align: middle;\n",
       "    }\n",
       "\n",
       "    .dataframe tbody tr th {\n",
       "        vertical-align: top;\n",
       "    }\n",
       "\n",
       "    .dataframe thead th {\n",
       "        text-align: right;\n",
       "    }\n",
       "</style>\n",
       "<table border=\"1\" class=\"dataframe\">\n",
       "  <thead>\n",
       "    <tr style=\"text-align: right;\">\n",
       "      <th></th>\n",
       "      <th>aluminium</th>\n",
       "      <th>ammonia</th>\n",
       "      <th>arsenic</th>\n",
       "      <th>barium</th>\n",
       "      <th>cadmium</th>\n",
       "      <th>chloramine</th>\n",
       "      <th>chromium</th>\n",
       "      <th>uranium</th>\n",
       "      <th>is_safe</th>\n",
       "    </tr>\n",
       "  </thead>\n",
       "  <tbody>\n",
       "    <tr>\n",
       "      <th>0</th>\n",
       "      <td>1.65</td>\n",
       "      <td>9.08</td>\n",
       "      <td>0.04</td>\n",
       "      <td>2.85</td>\n",
       "      <td>0.007</td>\n",
       "      <td>0.35</td>\n",
       "      <td>0.83</td>\n",
       "      <td>0.02</td>\n",
       "      <td>1</td>\n",
       "    </tr>\n",
       "    <tr>\n",
       "      <th>1</th>\n",
       "      <td>2.32</td>\n",
       "      <td>21.16</td>\n",
       "      <td>0.01</td>\n",
       "      <td>3.31</td>\n",
       "      <td>0.002</td>\n",
       "      <td>5.28</td>\n",
       "      <td>0.68</td>\n",
       "      <td>0.05</td>\n",
       "      <td>1</td>\n",
       "    </tr>\n",
       "    <tr>\n",
       "      <th>2</th>\n",
       "      <td>1.01</td>\n",
       "      <td>14.02</td>\n",
       "      <td>0.04</td>\n",
       "      <td>0.58</td>\n",
       "      <td>0.008</td>\n",
       "      <td>4.24</td>\n",
       "      <td>0.53</td>\n",
       "      <td>0.01</td>\n",
       "      <td>0</td>\n",
       "    </tr>\n",
       "    <tr>\n",
       "      <th>3</th>\n",
       "      <td>1.36</td>\n",
       "      <td>11.33</td>\n",
       "      <td>0.04</td>\n",
       "      <td>2.96</td>\n",
       "      <td>0.001</td>\n",
       "      <td>7.23</td>\n",
       "      <td>0.03</td>\n",
       "      <td>0.05</td>\n",
       "      <td>1</td>\n",
       "    </tr>\n",
       "    <tr>\n",
       "      <th>4</th>\n",
       "      <td>0.92</td>\n",
       "      <td>24.33</td>\n",
       "      <td>0.03</td>\n",
       "      <td>0.20</td>\n",
       "      <td>0.006</td>\n",
       "      <td>2.67</td>\n",
       "      <td>0.69</td>\n",
       "      <td>0.02</td>\n",
       "      <td>1</td>\n",
       "    </tr>\n",
       "  </tbody>\n",
       "</table>\n",
       "</div>"
      ],
      "text/plain": [
       "   aluminium  ammonia  arsenic  barium  cadmium  chloramine  chromium  \\\n",
       "0       1.65     9.08     0.04    2.85    0.007        0.35      0.83   \n",
       "1       2.32    21.16     0.01    3.31    0.002        5.28      0.68   \n",
       "2       1.01    14.02     0.04    0.58    0.008        4.24      0.53   \n",
       "3       1.36    11.33     0.04    2.96    0.001        7.23      0.03   \n",
       "4       0.92    24.33     0.03    0.20    0.006        2.67      0.69   \n",
       "\n",
       "   uranium  is_safe  \n",
       "0     0.02        1  \n",
       "1     0.05        1  \n",
       "2     0.01        0  \n",
       "3     0.05        1  \n",
       "4     0.02        1  "
      ]
     },
     "execution_count": 3,
     "metadata": {},
     "output_type": "execute_result"
    }
   ],
   "source": [
    "dataset.head()\n"
   ]
  },
  {
   "cell_type": "code",
   "execution_count": 4,
   "metadata": {},
   "outputs": [
    {
     "data": {
      "text/plain": [
       "(7999, 9)"
      ]
     },
     "execution_count": 4,
     "metadata": {},
     "output_type": "execute_result"
    }
   ],
   "source": [
    "dataset.shape"
   ]
  },
  {
   "cell_type": "code",
   "execution_count": 5,
   "metadata": {},
   "outputs": [
    {
     "data": {
      "text/plain": [
       "0    7087\n",
       "1     912\n",
       "Name: is_safe, dtype: int64"
      ]
     },
     "execution_count": 5,
     "metadata": {},
     "output_type": "execute_result"
    }
   ],
   "source": [
    "dataset['is_safe'].value_counts()"
   ]
  },
  {
   "cell_type": "code",
   "execution_count": 6,
   "metadata": {},
   "outputs": [],
   "source": [
    "# memisahkan data dan label\n",
    "X = dataset.drop(columns='is_safe', axis=1)\n",
    "Y = dataset['is_safe']"
   ]
  },
  {
   "cell_type": "code",
   "execution_count": 7,
   "metadata": {},
   "outputs": [
    {
     "name": "stdout",
     "output_type": "stream",
     "text": [
      "      aluminium  ammonia  arsenic  barium  cadmium  chloramine  chromium  \\\n",
      "0          1.65     9.08     0.04    2.85    0.007        0.35      0.83   \n",
      "1          2.32    21.16     0.01    3.31    0.002        5.28      0.68   \n",
      "2          1.01    14.02     0.04    0.58    0.008        4.24      0.53   \n",
      "3          1.36    11.33     0.04    2.96    0.001        7.23      0.03   \n",
      "4          0.92    24.33     0.03    0.20    0.006        2.67      0.69   \n",
      "...         ...      ...      ...     ...      ...         ...       ...   \n",
      "7994       0.05     7.78     0.00    1.95    0.040        0.10      0.03   \n",
      "7995       0.05    24.22     0.02    0.59    0.010        0.45      0.02   \n",
      "7996       0.09     6.85     0.00    0.61    0.030        0.05      0.05   \n",
      "7997       0.01    10.00     0.01    2.00    0.000        2.00      0.00   \n",
      "7998       0.04     6.85     0.01    0.70    0.030        0.05      0.01   \n",
      "\n",
      "      uranium  \n",
      "0        0.02  \n",
      "1        0.05  \n",
      "2        0.01  \n",
      "3        0.05  \n",
      "4        0.02  \n",
      "...       ...  \n",
      "7994     0.03  \n",
      "7995     0.08  \n",
      "7996     0.05  \n",
      "7997     0.00  \n",
      "7998     0.05  \n",
      "\n",
      "[7999 rows x 8 columns]\n"
     ]
    }
   ],
   "source": [
    "print(X)"
   ]
  },
  {
   "cell_type": "code",
   "execution_count": 8,
   "metadata": {},
   "outputs": [
    {
     "name": "stdout",
     "output_type": "stream",
     "text": [
      "0       1\n",
      "1       1\n",
      "2       0\n",
      "3       1\n",
      "4       1\n",
      "       ..\n",
      "7994    1\n",
      "7995    1\n",
      "7996    1\n",
      "7997    1\n",
      "7998    1\n",
      "Name: is_safe, Length: 7999, dtype: int64\n"
     ]
    }
   ],
   "source": [
    "print(Y)"
   ]
  },
  {
   "cell_type": "markdown",
   "metadata": {},
   "source": [
    "3. standarisasi data"
   ]
  },
  {
   "cell_type": "code",
   "execution_count": 9,
   "metadata": {},
   "outputs": [],
   "source": [
    "X = dataset.drop(columns='is_safe', axis=1)\n",
    "Y = dataset['is_safe']"
   ]
  },
  {
   "cell_type": "code",
   "execution_count": 10,
   "metadata": {},
   "outputs": [
    {
     "name": "stdout",
     "output_type": "stream",
     "text": [
      "      aluminium  ammonia  arsenic  barium  cadmium  chloramine  chromium  \\\n",
      "0          1.65     9.08     0.04    2.85    0.007        0.35      0.83   \n",
      "1          2.32    21.16     0.01    3.31    0.002        5.28      0.68   \n",
      "2          1.01    14.02     0.04    0.58    0.008        4.24      0.53   \n",
      "3          1.36    11.33     0.04    2.96    0.001        7.23      0.03   \n",
      "4          0.92    24.33     0.03    0.20    0.006        2.67      0.69   \n",
      "...         ...      ...      ...     ...      ...         ...       ...   \n",
      "7994       0.05     7.78     0.00    1.95    0.040        0.10      0.03   \n",
      "7995       0.05    24.22     0.02    0.59    0.010        0.45      0.02   \n",
      "7996       0.09     6.85     0.00    0.61    0.030        0.05      0.05   \n",
      "7997       0.01    10.00     0.01    2.00    0.000        2.00      0.00   \n",
      "7998       0.04     6.85     0.01    0.70    0.030        0.05      0.01   \n",
      "\n",
      "      uranium  \n",
      "0        0.02  \n",
      "1        0.05  \n",
      "2        0.01  \n",
      "3        0.05  \n",
      "4        0.02  \n",
      "...       ...  \n",
      "7994     0.03  \n",
      "7995     0.08  \n",
      "7996     0.05  \n",
      "7997     0.00  \n",
      "7998     0.05  \n",
      "\n",
      "[7999 rows x 8 columns]\n",
      "0       1\n",
      "1       1\n",
      "2       0\n",
      "3       1\n",
      "4       1\n",
      "       ..\n",
      "7994    1\n",
      "7995    1\n",
      "7996    1\n",
      "7997    1\n",
      "7998    1\n",
      "Name: is_safe, Length: 7999, dtype: int64\n"
     ]
    }
   ],
   "source": [
    "print(X)\n",
    "print(Y)"
   ]
  },
  {
   "cell_type": "markdown",
   "metadata": {},
   "source": [
    "4. Memisahkan data traininng dan data testing\n"
   ]
  },
  {
   "cell_type": "code",
   "execution_count": 11,
   "metadata": {},
   "outputs": [],
   "source": [
    "X_train, X_test, Y_train, Y_test = train_test_split(X, Y, test_size=0.2, stratify=Y, random_state=2)"
   ]
  },
  {
   "cell_type": "code",
   "execution_count": 12,
   "metadata": {},
   "outputs": [
    {
     "name": "stdout",
     "output_type": "stream",
     "text": [
      "(7999, 8) (6399, 8) (1600, 8)\n"
     ]
    }
   ],
   "source": [
    "print(X.shape, X_train.shape, X_test.shape)"
   ]
  },
  {
   "cell_type": "markdown",
   "metadata": {},
   "source": [
    "5. membuat data latih dengan algoritma svm"
   ]
  },
  {
   "cell_type": "code",
   "execution_count": 13,
   "metadata": {},
   "outputs": [],
   "source": [
    "classifire = svm.SVC(kernel='linear')"
   ]
  },
  {
   "cell_type": "code",
   "execution_count": 14,
   "metadata": {},
   "outputs": [
    {
     "data": {
      "text/plain": [
       "SVC(kernel='linear')"
      ]
     },
     "execution_count": 14,
     "metadata": {},
     "output_type": "execute_result"
    }
   ],
   "source": [
    "classifire.fit(X_train, Y_train)"
   ]
  },
  {
   "cell_type": "code",
   "execution_count": 15,
   "metadata": {},
   "outputs": [],
   "source": [
    "X_train_prediction = classifire.predict(X_train)\n",
    "training_data_accurasy = accuracy_score(X_train_prediction, Y_train)"
   ]
  },
  {
   "cell_type": "markdown",
   "metadata": {},
   "source": [
    "6. membuat model evaluasi untuk mengukur tingkat akurasi"
   ]
  },
  {
   "cell_type": "code",
   "execution_count": 16,
   "metadata": {},
   "outputs": [],
   "source": [
    "X_train_prediction = classifire.predict(X_train)\n",
    "training_data_accurasy = accuracy_score(X_train_prediction, Y_train)"
   ]
  },
  {
   "cell_type": "code",
   "execution_count": 17,
   "metadata": {},
   "outputs": [
    {
     "name": "stdout",
     "output_type": "stream",
     "text": [
      "Akurasi data  adalah =  0.8859196749492109\n"
     ]
    }
   ],
   "source": [
    "print('Akurasi data  adalah = ', training_data_accurasy)"
   ]
  },
  {
   "cell_type": "code",
   "execution_count": 18,
   "metadata": {},
   "outputs": [],
   "source": [
    "X_test_prediction = classifire.predict(X_test)\n",
    "test_data_accurasy = accuracy_score(X_test_prediction, Y_test)"
   ]
  },
  {
   "cell_type": "code",
   "execution_count": 19,
   "metadata": {},
   "outputs": [
    {
     "name": "stdout",
     "output_type": "stream",
     "text": [
      "Akurasi data testing adalah = 0.88625\n"
     ]
    }
   ],
   "source": [
    "print('Akurasi data testing adalah =', test_data_accurasy)"
   ]
  },
  {
   "cell_type": "markdown",
   "metadata": {},
   "source": [
    "7. model prediksi"
   ]
  },
  {
   "cell_type": "code",
   "execution_count": 30,
   "metadata": {},
   "outputs": [
    {
     "name": "stdout",
     "output_type": "stream",
     "text": [
      "[0]\n",
      "bersih\n"
     ]
    },
    {
     "name": "stderr",
     "output_type": "stream",
     "text": [
      "c:\\Users\\Heri\\anaconda3\\lib\\site-packages\\sklearn\\base.py:450: UserWarning: X does not have valid feature names, but SVC was fitted with feature names\n",
      "  warnings.warn(\n"
     ]
    }
   ],
   "source": [
    "input_data = (2.32,21.16,0.01,3.31,0.002,5.28,0.68,0)\n",
    "input_data_as_numpy_array = np.array(input_data)\n",
    "input_data_reshape = input_data_as_numpy_array.reshape(1,-1)\n",
    "prediction = classifire.predict(input_data_reshape)\n",
    "print(prediction)\n",
    "if (prediction[0] == 0):\n",
    "    print('bersih')\n",
    "else :\n",
    "    print('tercemar')"
   ]
  },
  {
   "cell_type": "markdown",
   "metadata": {},
   "source": [
    "8. simpan model\n"
   ]
  },
  {
   "cell_type": "code",
   "execution_count": null,
   "metadata": {},
   "outputs": [],
   "source": [
    "import pickle"
   ]
  },
  {
   "cell_type": "code",
   "execution_count": null,
   "metadata": {},
   "outputs": [],
   "source": [
    "filename = 'dataset_model2.sav'\n",
    "pickle.dump(classifire, open(filename,'wb'))"
   ]
  },
  {
   "cell_type": "code",
   "execution_count": null,
   "metadata": {},
   "outputs": [],
   "source": []
  }
 ],
 "metadata": {
  "kernelspec": {
   "display_name": "base",
   "language": "python",
   "name": "python3"
  },
  "language_info": {
   "codemirror_mode": {
    "name": "ipython",
    "version": 3
   },
   "file_extension": ".py",
   "mimetype": "text/x-python",
   "name": "python",
   "nbconvert_exporter": "python",
   "pygments_lexer": "ipython3",
   "version": "3.9.13"
  },
  "vscode": {
   "interpreter": {
    "hash": "bd8926a40321db2f7857184f3fde6b5711280481f4573ff8deff846376ac2d07"
   }
  }
 },
 "nbformat": 4,
 "nbformat_minor": 2
}
